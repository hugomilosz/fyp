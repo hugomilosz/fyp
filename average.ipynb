{
 "cells": [
  {
   "cell_type": "code",
   "execution_count": 1,
   "metadata": {},
   "outputs": [],
   "source": [
    "import wandb\n",
    "import pickle\n",
    "import os\n",
    "import numpy as np\n",
    "from collections import defaultdict\n",
    "\n",
    "def compute_majority_votes(model: str, dataset: str, num_runs: int = 10, project_path_base: str = \"hugomilosz-imperial-college-london\") -> dict:\n",
    "    \"\"\"\n",
    "    Compute majority vote binary predictions from multiple wandb runs.\n",
    "    \"\"\"\n",
    "    project_name = f\"{model}_{dataset}_analysis\"\n",
    "    run_names = [f\"{model}_{dataset}_run{i}\" for i in range(num_runs)]\n",
    "    project_path = f\"{project_path_base}/{project_name}\"\n",
    "\n",
    "    method_binaries = defaultdict(list)\n",
    "\n",
    "    api_run = wandb.init(project=project_name, job_type=\"aggregate_eval_summary\")\n",
    "\n",
    "    for run_name in run_names:\n",
    "        run_id = run_name.split(\"_\")[-1]\n",
    "        artifact_path = f\"{project_path}/eval_summary_{run_id}:v0\"\n",
    "        artifact = api_run.use_artifact(artifact_path, type='pickle')\n",
    "        artifact_dir = artifact.download()\n",
    "        \n",
    "        with open(os.path.join(artifact_dir, f\"eval_summary_{run_id}.pkl\"), \"rb\") as f:\n",
    "            eval_summary = pickle.load(f)\n",
    "\n",
    "        binary_scores = eval_summary[\"binary_scores\"]\n",
    "\n",
    "        for method_name, epoch_values in binary_scores.items():\n",
    "            if not epoch_values:\n",
    "                continue\n",
    "            last_epoch_array = epoch_values[-1]\n",
    "            method_binaries[method_name].append(np.array(last_epoch_array))\n",
    "\n",
    "    majority_vote_dict = {}\n",
    "\n",
    "    for method, binary_arrays in method_binaries.items():\n",
    "        stacked = np.stack(binary_arrays)\n",
    "        majority = (np.sum(stacked, axis=0) >= (len(binary_arrays) / 2)).astype(int)\n",
    "        majority_vote_dict[method] = majority\n",
    "\n",
    "    api_run.finish()\n",
    "    return majority_vote_dict"
   ]
  },
  {
   "cell_type": "code",
   "execution_count": null,
   "metadata": {},
   "outputs": [
    {
     "name": "stderr",
     "output_type": "stream",
     "text": [
      "\u001b[34m\u001b[1mwandb\u001b[0m: Currently logged in as: \u001b[33mhugomilosz\u001b[0m (\u001b[33mhugomilosz-imperial-college-london\u001b[0m) to \u001b[32mhttps://api.wandb.ai\u001b[0m. Use \u001b[1m`wandb login --relogin`\u001b[0m to force relogin\n",
      "\u001b[34m\u001b[1mwandb\u001b[0m: Using wandb-core as the SDK backend.  Please refer to https://wandb.me/wandb-core for more information.\n"
     ]
    },
    {
     "data": {
      "text/html": [
       "Tracking run with wandb version 0.19.6"
      ],
      "text/plain": [
       "<IPython.core.display.HTML object>"
      ]
     },
     "metadata": {},
     "output_type": "display_data"
    },
    {
     "data": {
      "text/html": [
       "Run data is saved locally in <code>/vol/bitbucket/hrm20/fyp/wandb/run-20250427_224900-neyhrq2x</code>"
      ],
      "text/plain": [
       "<IPython.core.display.HTML object>"
      ]
     },
     "metadata": {},
     "output_type": "display_data"
    },
    {
     "data": {
      "text/html": [
       "Syncing run <strong><a href='https://wandb.ai/hugomilosz-imperial-college-london/bert-tiny_toy_analysis/runs/neyhrq2x' target=\"_blank\">peach-sea-11</a></strong> to <a href='https://wandb.ai/hugomilosz-imperial-college-london/bert-tiny_toy_analysis' target=\"_blank\">Weights & Biases</a> (<a href='https://wandb.me/developer-guide' target=\"_blank\">docs</a>)<br>"
      ],
      "text/plain": [
       "<IPython.core.display.HTML object>"
      ]
     },
     "metadata": {},
     "output_type": "display_data"
    },
    {
     "data": {
      "text/html": [
       " View project at <a href='https://wandb.ai/hugomilosz-imperial-college-london/bert-tiny_toy_analysis' target=\"_blank\">https://wandb.ai/hugomilosz-imperial-college-london/bert-tiny_toy_analysis</a>"
      ],
      "text/plain": [
       "<IPython.core.display.HTML object>"
      ]
     },
     "metadata": {},
     "output_type": "display_data"
    },
    {
     "data": {
      "text/html": [
       " View run at <a href='https://wandb.ai/hugomilosz-imperial-college-london/bert-tiny_toy_analysis/runs/neyhrq2x' target=\"_blank\">https://wandb.ai/hugomilosz-imperial-college-london/bert-tiny_toy_analysis/runs/neyhrq2x</a>"
      ],
      "text/plain": [
       "<IPython.core.display.HTML object>"
      ]
     },
     "metadata": {},
     "output_type": "display_data"
    },
    {
     "name": "stderr",
     "output_type": "stream",
     "text": [
      "\u001b[34m\u001b[1mwandb\u001b[0m:   1 of 1 files downloaded.  \n",
      "\u001b[34m\u001b[1mwandb\u001b[0m:   1 of 1 files downloaded.  \n",
      "\u001b[34m\u001b[1mwandb\u001b[0m:   1 of 1 files downloaded.  \n",
      "\u001b[34m\u001b[1mwandb\u001b[0m:   1 of 1 files downloaded.  \n",
      "\u001b[34m\u001b[1mwandb\u001b[0m:   1 of 1 files downloaded.  \n",
      "\u001b[34m\u001b[1mwandb\u001b[0m:   1 of 1 files downloaded.  \n",
      "\u001b[34m\u001b[1mwandb\u001b[0m:   1 of 1 files downloaded.  \n",
      "\u001b[34m\u001b[1mwandb\u001b[0m:   1 of 1 files downloaded.  \n",
      "\u001b[34m\u001b[1mwandb\u001b[0m:   1 of 1 files downloaded.  \n",
      "\u001b[34m\u001b[1mwandb\u001b[0m:   1 of 1 files downloaded.  \n"
     ]
    },
    {
     "data": {
      "text/html": [],
      "text/plain": [
       "<IPython.core.display.HTML object>"
      ]
     },
     "metadata": {},
     "output_type": "display_data"
    },
    {
     "data": {
      "text/html": [
       " View run <strong style=\"color:#cdcd00\">peach-sea-11</strong> at: <a href='https://wandb.ai/hugomilosz-imperial-college-london/bert-tiny_toy_analysis/runs/neyhrq2x' target=\"_blank\">https://wandb.ai/hugomilosz-imperial-college-london/bert-tiny_toy_analysis/runs/neyhrq2x</a><br> View project at: <a href='https://wandb.ai/hugomilosz-imperial-college-london/bert-tiny_toy_analysis' target=\"_blank\">https://wandb.ai/hugomilosz-imperial-college-london/bert-tiny_toy_analysis</a><br>Synced 5 W&B file(s), 0 media file(s), 0 artifact file(s) and 0 other file(s)"
      ],
      "text/plain": [
       "<IPython.core.display.HTML object>"
      ]
     },
     "metadata": {},
     "output_type": "display_data"
    },
    {
     "data": {
      "text/html": [
       "Find logs at: <code>./wandb/run-20250427_224900-neyhrq2x/logs</code>"
      ],
      "text/plain": [
       "<IPython.core.display.HTML object>"
      ]
     },
     "metadata": {},
     "output_type": "display_data"
    }
   ],
   "source": [
    "votes = compute_majority_votes(model=\"bert-base\", dataset=\"mnli\")"
   ]
  },
  {
   "cell_type": "code",
   "execution_count": 3,
   "metadata": {},
   "outputs": [
    {
     "name": "stdout",
     "output_type": "stream",
     "text": [
      "                     aum   datamap      el2n     grand      loss  forgetting  \\\n",
      "aum             1.000000  0.151295  0.039604  0.028169  0.039604    0.192698   \n",
      "datamap         0.151295  1.000000  0.015102  0.024811  0.015102    0.908909   \n",
      "el2n            0.039604  0.015102  1.000000  0.195122  1.000000    0.020284   \n",
      "grand           0.028169  0.024811  0.195122  1.000000  0.195122    0.029412   \n",
      "loss            0.039604  0.015102  1.000000  0.195122  1.000000    0.020284   \n",
      "forgetting      0.192698  0.908909  0.020284  0.029412  0.020284    1.000000   \n",
      "regularisation  0.205882  0.502045  0.021583  0.032200  0.021583    0.546371   \n",
      "\n",
      "                regularisation  \n",
      "aum                   0.205882  \n",
      "datamap               0.502045  \n",
      "el2n                  0.021583  \n",
      "grand                 0.032200  \n",
      "loss                  0.021583  \n",
      "forgetting            0.546371  \n",
      "regularisation        1.000000  \n"
     ]
    }
   ],
   "source": [
    "import pandas as pd\n",
    "import numpy as np\n",
    "\n",
    "methods = list(votes.keys())\n",
    "overlap_matrix = np.zeros((len(methods), len(methods)))\n",
    "\n",
    "for i, method_i in enumerate(methods):\n",
    "    for j, method_j in enumerate(methods):\n",
    "        easy_i = votes[method_i] == 1\n",
    "        easy_j = votes[method_j] == 1\n",
    "        intersection = np.sum(np.logical_and(easy_i, easy_j))\n",
    "        union = np.sum(np.logical_or(easy_i, easy_j))\n",
    "        overlap_matrix[i, j] = intersection / union if union > 0 else 0.0\n",
    "\n",
    "overlap_df = pd.DataFrame(overlap_matrix, index=methods, columns=methods)\n",
    "print(overlap_df)"
   ]
  }
 ],
 "metadata": {
  "kernelspec": {
   "display_name": "fypenv",
   "language": "python",
   "name": "fypenv"
  }
 },
 "nbformat": 4,
 "nbformat_minor": 2
}
